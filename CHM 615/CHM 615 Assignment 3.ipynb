{
  "nbformat": 4,
  "nbformat_minor": 0,
  "metadata": {
    "colab": {
      "provenance": [],
      "authorship_tag": "ABX9TyM7YV+ARZf/9/3vN+1oepnZ",
      "include_colab_link": true
    },
    "kernelspec": {
      "name": "python3",
      "display_name": "Python 3"
    },
    "language_info": {
      "name": "python"
    }
  },
  "cells": [
    {
      "cell_type": "markdown",
      "metadata": {
        "id": "view-in-github",
        "colab_type": "text"
      },
      "source": [
        "<a href=\"https://colab.research.google.com/github/JMJ-01/JMJ-01.github.io-scientific-programs/blob/main/CHM%20615%20Assignment%203.ipynb\" target=\"_parent\"><img src=\"https://colab.research.google.com/assets/colab-badge.svg\" alt=\"Open In Colab\"/></a>"
      ]
    },
    {
      "cell_type": "markdown",
      "source": [
        "Q1. Boltzmann distribution"
      ],
      "metadata": {
        "id": "EaGf0j9yTlSY"
      }
    },
    {
      "cell_type": "code",
      "execution_count": null,
      "metadata": {
        "id": "QdWRztRFK5pY"
      },
      "outputs": [],
      "source": [
        "#Question: Plot Boltzmann velocity distribu􀆟on for Ne gas at 300k. Calculate V rms of Ne at 300K. Find out at what temperature the V rms become half and double of 300K\n",
        "\n",
        "import matplotlib.pyplot as plt\n",
        "import numpy as np\n",
        "\n",
        "def func(x):                                                      ##300\n",
        "    return 2995.2946*10**(24)*x**(2)*2.17**(-12.077*10**(17)*x**2)\n",
        "\n",
        "def func_1(x):                                                    ##75\n",
        "    return 2.3962*10**(28)*x**(2)*2.17**(-48.3091*10**(17)*x**2)\n",
        "\n",
        "def func_2(x):                                                   ##1200\n",
        "    return 374.4118*10**(24)*x**(2)*2.17**(-30.1932*10**(16)*x**2)\n",
        "\n",
        "x = np.linspace(0, 0.00000001, 4000)\n",
        "y = func(x)\n",
        "z = func_1(x)\n",
        "w = func_2(x)\n",
        "\n",
        "plt.figure(figsize=(8, 6))  # Optional: Set the figure size\n",
        "plt.plot(x, y, label='300')  # Plot the function\n",
        "plt.plot(x, z, label='75')  # Plot the function\n",
        "plt.plot(x, w, label='1200')  # Plot the function\n",
        "plt.xlabel('x')  # Label for x-axis\n",
        "plt.ylabel('y')  # Label for y-axis\n",
        "plt.title('Ne atom Boltzmann dist. ')  # Title of the plot\n",
        "plt.legend()  # Show legend\n",
        "plt.grid(True)  # Show grid\n",
        "plt.show()  # Display the plot\n"
      ]
    },
    {
      "cell_type": "markdown",
      "source": [
        "Q.2 Rotational distribution"
      ],
      "metadata": {
        "id": "wIgA1_y0TuOE"
      }
    },
    {
      "cell_type": "code",
      "source": [
        "#Question: Plot J max 2for different temperatures\n",
        "\n",
        "import matplotlib.pyplot as plt\n",
        "import numpy as np\n",
        "\n",
        "# Constants\n",
        "# HN= 1.09A , CN= 1.16A , ICOM= 19.1326*10**(-47)kgm**2\n",
        "\n",
        "def func_1(j, T):\n",
        "    return (2*j + 1) * 2.17**(-j * (j + 1) * 2.1054 / T)\n",
        "\n",
        "# Calculate y values using the func function\n",
        "def func(x, T):\n",
        "    total = 0\n",
        "    for i in range(1, 101):\n",
        "        total += func_1(i, T)\n",
        "    return total\n",
        "\n",
        "# Create an array of T values\n",
        "T_values = [50, 100, 150, 300, 600]  # Add more temperatures as needed\n",
        "\n",
        "# Plot for different T values\n",
        "plt.figure(figsize=(8, 6))  # Optional: Set the figure size\n",
        "\n",
        "for T in T_values:\n",
        "    y = func(x, T)\n",
        "\n",
        "    j_val = [func_1(j, T) for j in range(1, 101)]\n",
        "\n",
        "    # Multiply j_val elements by 1/y\n",
        "    result_list = [element * (1 / y) for element in j_val]  # P(j)\n",
        "\n",
        "    # Plot the function for the current T value\n",
        "    plt.plot(range(1, 101), result_list, label=f'T={T}')\n",
        "\n",
        "plt.xlabel('J')  # Label for x-axis\n",
        "plt.ylabel('P(J)')  # Label for y-axis\n",
        "plt.title('J max plot for different T')  # Title of the plot\n",
        "plt.legend()  # Show legend\n",
        "plt.grid(True)  # Show grid\n",
        "plt.show()  # Display the plot\n"
      ],
      "metadata": {
        "id": "eO_FF8yLF-Mf"
      },
      "execution_count": null,
      "outputs": []
    },
    {
      "cell_type": "markdown",
      "source": [
        "Q3. Angular distribution of Pz orbital"
      ],
      "metadata": {
        "id": "dg6NwFkmlUPG"
      }
    },
    {
      "cell_type": "code",
      "source": [
        "#Question: Determine and plot the angular distribu􀆟on of Pz orbital.\n",
        "\n",
        "import numpy as np\n",
        "import matplotlib.pyplot as plt\n",
        "from mpl_toolkits.mplot3d import Axes3D\n",
        "from matplotlib import cm\n",
        "from ipywidgets import interactive\n",
        "\n",
        "#Taking bhor radius as unit,\n",
        "\n",
        "B = 0.00994718\n",
        "\n",
        "\n",
        "f = lambda x, y: (B * ((np.cos(x))**2) * np.sin(x) * ((24*2.17-65) / (2.17)))\n",
        "x = np.linspace(0, 6, 1000)\n",
        "y = np.linspace(0, 3.1415, 1000)\n",
        "X, Y = np.meshgrid(x, y)\n",
        "\n",
        "P = f(X, Y)\n",
        "\n",
        "def plotter(E, A):\n",
        "    fig = plt.figure(figsize=[12, 8])\n",
        "    ax = fig.add_subplot(111, projection='3d')\n",
        "    ax.plot_surface(X, Y, P, cmap=cm.coolwarm)\n",
        "    ax.view_init(elev=E, azim=A)\n",
        "    ax.set_xlabel('Theta')\n",
        "    ax.set_ylabel('Phi')\n",
        "    ax.set_zlabel('f(Theta, Phi)')\n",
        "    ax.set_title('Angular distribution of Hydrogen atom Pz wavefunction')\n",
        "    plt.show()\n",
        "\n",
        "iplot = interactive(plotter, E=(-90, 90, 5), A=(-90, 90, 5))\n",
        "iplot\n"
      ],
      "metadata": {
        "id": "jvCcePfFwKO8"
      },
      "execution_count": null,
      "outputs": []
    },
    {
      "cell_type": "code",
      "source": [
        "\n",
        "\n",
        "import numpy as np\n",
        "import matplotlib.pyplot as plt\n",
        "from mpl_toolkits.mplot3d import Axes3D\n",
        "from matplotlib import cm\n",
        "from ipywidgets import interactive\n",
        "\n",
        "#Taking bhor radius as unit,\n",
        "\n",
        "B = 0.00994718\n",
        "\n",
        "\n",
        "f = lambda x, y: (B * ((np.sin(x))**2) * np.sin(x) *(np.cos(y))**2)*((24*2.17-65) / (2.17))\n",
        "x = np.linspace(0, 6, 1000)\n",
        "y = np.linspace(0, 3.1415, 1000)\n",
        "X, Y = np.meshgrid(x, y)\n",
        "\n",
        "P = f(X, Y)\n",
        "\n",
        "def plotter(E, A):\n",
        "    fig = plt.figure(figsize=[12, 8])\n",
        "    ax = fig.add_subplot(111, projection='3d')\n",
        "    ax.plot_surface(X, Y, P, cmap=cm.coolwarm)\n",
        "    ax.view_init(elev=E, azim=A)\n",
        "    ax.set_xlabel('Theta')\n",
        "    ax.set_ylabel('Phi')\n",
        "    ax.set_zlabel('f(Theta, Phi)')\n",
        "    ax.set_title('Angular distribution of Hydrogen atom Px wavefunction')\n",
        "    plt.show()\n",
        "\n",
        "iplot = interactive(plotter, E=(-90, 90, 5), A=(-90, 90, 5))\n",
        "iplot"
      ],
      "metadata": {
        "id": "71YS9oGq1EDX"
      },
      "execution_count": null,
      "outputs": []
    }
  ]
}
