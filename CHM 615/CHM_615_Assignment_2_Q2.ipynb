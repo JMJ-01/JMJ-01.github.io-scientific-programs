{
  "nbformat": 4,
  "nbformat_minor": 0,
  "metadata": {
    "colab": {
      "provenance": [],
      "authorship_tag": "ABX9TyMLOJnv1iZa5CkYtnle3Qbk",
      "include_colab_link": true
    },
    "kernelspec": {
      "name": "python3",
      "display_name": "Python 3"
    },
    "language_info": {
      "name": "python"
    }
  },
  "cells": [
    {
      "cell_type": "markdown",
      "metadata": {
        "id": "view-in-github",
        "colab_type": "text"
      },
      "source": [
        "<a href=\"https://colab.research.google.com/github/JMJ-01/JMJ-01.github.io-scientific-programs/blob/main/CHM_615_Assignment_2_Q2.ipynb\" target=\"_parent\"><img src=\"https://colab.research.google.com/assets/colab-badge.svg\" alt=\"Open In Colab\"/></a>"
      ]
    },
    {
      "cell_type": "code",
      "execution_count": null,
      "metadata": {
        "id": "hIuDoPlaeqEO"
      },
      "outputs": [],
      "source": [
        "#Question: Solve the classical equa􀆟on of motion and generate corresponding phase-space plot. Also print the trajectories for each poten􀆟al well (a) Simple harmonic oscillator (b) Double-Well poten􀆟al (c) Morse Poten􀆟al\n",
        "#ChatGPT was used iteratively to correct my code\n",
        "import numpy as np\n",
        "import matplotlib.pyplot as plt\n",
        "\n",
        "x_0 = 0\n",
        "del_t = np.linspace(0, 10, 100)\n",
        "\n",
        "B = -0.01\n",
        "C = 0.001\n",
        "\n",
        "# Range of initial velocities\n",
        "initial_velocity_range = np.linspace(0.0002, 0.01, 10)\n",
        "\n",
        "# Loop over the range of initial velocities\n",
        "for v_0 in initial_velocity_range:\n",
        "    x = x_0\n",
        "    v = v_0\n",
        "    a = 0  # Assuming initial acceleration is zero\n",
        "\n",
        "    # Initialization of arrays for position, velocity, acceleration\n",
        "    x_t = np.array([x_0])\n",
        "    v_t = np.array([v_0])\n",
        "    a_t = np.array([a])\n",
        "    p_t = np.array([0])  # Assuming initial momentum is zero\n",
        "\n",
        "    # Loop for iteratively adding to the array\n",
        "    for t in del_t:\n",
        "        x = x + v * t + 0.5 * a * t**2\n",
        "        x_t = np.append(x_t, x)  # Append the new position to the array\n",
        "\n",
        "        a = B *(x_t[-1])\n",
        "        #a = B * (x_t[-1])**3 + C * (x_t[-1])  # Double well potential\n",
        "        #a = B * C * 2 * (np.exp(C * x_t[-1]) - (np.exp(C * x_t[-1]))**2) # Morse potential\n",
        "\n",
        "        v = v + 0.5 * t * (a_t[-1] + a)  # Calculate new velocity\n",
        "        v_t = np.append(v_t, v)  # Append the new velocity to the array\n",
        "        p_t = np.append(p_t, v)  # Append the new velocity to the array\n",
        "        a_t = np.append(a_t, a)  # Append the new acceleration to the array\n",
        "\n",
        "    # Plotting the arrays for each initial velocity\n",
        "    plt.plot(x_t, p_t, linestyle='-', label=f'Initial Velocity = {v_0:.4f}')\n",
        "\n",
        "# Adding labels and title\n",
        "plt.xlabel('Position')\n",
        "plt.ylabel('Momentum')\n",
        "plt.title('Phase-space diagram for a double-well potential')\n",
        "\n",
        "# Display the legend, grid, and the plot\n",
        "plt.legend()\n",
        "plt.grid(True)\n",
        "plt.show()"
      ]
    }
  ]
}
