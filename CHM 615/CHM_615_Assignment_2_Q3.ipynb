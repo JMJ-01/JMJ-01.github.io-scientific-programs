{
  "nbformat": 4,
  "nbformat_minor": 0,
  "metadata": {
    "colab": {
      "provenance": [],
      "authorship_tag": "ABX9TyO08XI6mXamufbijyO0zJ9J",
      "include_colab_link": true
    },
    "kernelspec": {
      "name": "python3",
      "display_name": "Python 3"
    },
    "language_info": {
      "name": "python"
    }
  },
  "cells": [
    {
      "cell_type": "markdown",
      "metadata": {
        "id": "view-in-github",
        "colab_type": "text"
      },
      "source": [
        "<a href=\"https://colab.research.google.com/github/JMJ-01/JMJ-01.github.io-scientific-programs/blob/main/CHM_615_Assignment_2_Q3.ipynb\" target=\"_parent\"><img src=\"https://colab.research.google.com/assets/colab-badge.svg\" alt=\"Open In Colab\"/></a>"
      ]
    },
    {
      "cell_type": "code",
      "execution_count": null,
      "metadata": {
        "id": "lffiOawqf8Hc"
      },
      "outputs": [],
      "source": [
        "#Question: Make a contour plot for the equa􀆟on f(x,y) = (B * (x**4) - C * (x**2) + A * (y**2)) and Generate classical trajectories.\n",
        "#ChatGPT was used iterativly to correct my code\n",
        "\n",
        "import numpy as np\n",
        "import matplotlib.pyplot as plt\n",
        "from ipywidgets import interactive\n",
        "from matplotlib import cm\n",
        "\n",
        "def velocity_verlet_x_y():\n",
        "    x_0 = 5\n",
        "    y_0 = 15\n",
        "    v_x_0 = 0.0001\n",
        "    v_y_0 = 0.0001\n",
        "    a_x_0 = 0\n",
        "    a_y_0 = 0\n",
        "    p_x_0 = 0\n",
        "    p_y_0 = 0\n",
        "    f_xy_0 = 0 # change it to take function value\n",
        "\n",
        "    x = x_0\n",
        "    y = y_0\n",
        "    v_x = v_x_0\n",
        "    v_y = v_y_0\n",
        "    a_x = a_x_0\n",
        "    a_y = a_y_0\n",
        "\n",
        "    B = 0.001\n",
        "    C = 1\n",
        "    A = 1\n",
        "\n",
        "    # Initialization of arrays for position, velocity, acceleration\n",
        "    x_t = np.array([x_0])\n",
        "    y_t = np.array([y_0])\n",
        "    vx_t = np.array([v_x_0])\n",
        "    vy_t = np.array([v_y_0])\n",
        "    ax_t = np.array([a_x_0])\n",
        "    ay_t = np.array([a_y_0])\n",
        "    px_t = np.array([p_x_0])\n",
        "    py_t = np.array([p_y_0])\n",
        "    fxy_t = np.array([f_xy_0])\n",
        "\n",
        "    del_t = np.linspace(0, 1.5, 10)\n",
        "\n",
        "    for t in del_t:\n",
        "        x = x_t[-1] + vx_t[-1] * t + 0.5 * ax_t[-1] * t**2\n",
        "        y = y_t[-1] + vy_t[-1] * t + 0.5 * ay_t[-1] * t**2\n",
        "\n",
        "        x_t = np.append(x_t, x)  # Append the new position to the array\n",
        "        y_t = np.append(y_t, y)  # Append the new position to the array\n",
        "        fxy_t = np.append(fxy_t, B * (x**4) - C * (x**2) + A * (y**2)) # Function value\n",
        "\n",
        "        a_x = -4*B*x**3+2*C*x  # Calculate new acceleration    <------- CHANGE IT\n",
        "        a_y = -2*A*y  # Calculate new acceleration    <------- CHANGE IT\n",
        "\n",
        "        v_x = vx_t[-1] + 0.5 * t * (ax_t[-1] + a_x)  # Calculate new velocity\n",
        "        v_y = vy_t[-1] + 0.5 * t * (ay_t[-1] + a_y)  # Calculate new velocity\n",
        "\n",
        "        vx_t = np.append(vx_t, v_x)  # Append the new velocity to the array\n",
        "        vy_t = np.append(vy_t, v_y)  # Append the new velocity to the array\n",
        "\n",
        "        ax_t = np.append(ax_t, a_x)  # Append the new acceleration to the array\n",
        "        ay_t = np.append(ay_t, a_y)  # Append the new acceleration to the array\n",
        "\n",
        "    return x_t, y_t, vx_t, vy_t, ax_t, ay_t, fxy_t\n",
        "\n",
        "def main():\n",
        "    global pos_x\n",
        "    global pos_x\n",
        "    global pos_y\n",
        "    global vel_x\n",
        "    global vel_y\n",
        "    global acc_x\n",
        "    global acc_y\n",
        "    global func_val\n",
        "    pos_x, pos_y, vel_x, vel_y, acc_x, acc_y, func_val = velocity_verlet_x_y()\n",
        "\n",
        "if __name__ == \"__main__\":\n",
        "    main()"
      ]
    },
    {
      "cell_type": "code",
      "source": [
        "print(pos_x)"
      ],
      "metadata": {
        "id": "Rtd6c4PthAMk"
      },
      "execution_count": null,
      "outputs": []
    },
    {
      "cell_type": "code",
      "source": [
        "import numpy as np\n",
        "import matplotlib.pyplot as plt\n",
        "from mpl_toolkits.mplot3d import Axes3D\n",
        "from matplotlib import cm\n",
        "from ipywidgets import interactive\n",
        "\n",
        "B = 0.001\n",
        "C = 1\n",
        "A = 1\n",
        "\n",
        "f = lambda x, y: (B * (x**4) - C * (x**2) + A * (y**2))\n",
        "x = np.linspace(-10, 10, 1000)\n",
        "y = np.linspace(-10, 10, 1000)\n",
        "X, Y = np.meshgrid(x, y)\n",
        "\n",
        "P = f(X, Y)\n",
        "\n",
        "def plotter(E, A):\n",
        "    fig = plt.figure(figsize=[12, 8])\n",
        "    ax = fig.add_subplot(111, projection='3d')\n",
        "    ax.plot_surface(X, Y, P, cmap=cm.coolwarm)\n",
        "    ax.view_init(elev=E, azim=A)\n",
        "\n",
        "    # Compute fxy_t values corresponding to x_t and y_t using mesh grid X and Y\n",
        "    fxy_t_mesh = f(pos_x, pos_y)\n",
        "\n",
        "    # Plot scatter points on the contour plot\n",
        "    ax.scatter(pos_x, pos_y, fxy_t_mesh, color='red', marker='o')\n",
        "\n",
        "    # Set axis limits to zoom out\n",
        "    ax.set_xlim(-15, 15)  # Set x-axis limits\n",
        "    ax.set_ylim(-15, 15)  # Set y-axis limits\n",
        "    ax.set_zlim(-100, 100)  # Set z-axis limits\n",
        "\n",
        "    plt.show()  # Explicitly show the plot\n",
        "\n",
        "\n",
        "iplot = interactive(plotter,\n",
        "                    E= (-90,90,5),\n",
        "                    A= (-90, 90,5)\n",
        "                    )\n",
        "iplot"
      ],
      "metadata": {
        "id": "OchSaX-YhC_C"
      },
      "execution_count": null,
      "outputs": []
    }
  ]
}
