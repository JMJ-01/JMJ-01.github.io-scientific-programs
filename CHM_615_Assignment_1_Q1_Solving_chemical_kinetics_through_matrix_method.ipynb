{
  "nbformat": 4,
  "nbformat_minor": 0,
  "metadata": {
    "colab": {
      "provenance": [],
      "authorship_tag": "ABX9TyO2ZcOo3eATLatnq+9Mj5kW",
      "include_colab_link": true
    },
    "kernelspec": {
      "name": "python3",
      "display_name": "Python 3"
    },
    "language_info": {
      "name": "python"
    }
  },
  "cells": [
    {
      "cell_type": "markdown",
      "metadata": {
        "id": "view-in-github",
        "colab_type": "text"
      },
      "source": [
        "<a href=\"https://colab.research.google.com/github/JMJ-01/JMJ-01.github.io-scientific-programs/blob/main/CHM_615_Assignment_1_Q1_Solving_chemical_kinetics_through_matrix_method.ipynb\" target=\"_parent\"><img src=\"https://colab.research.google.com/assets/colab-badge.svg\" alt=\"Open In Colab\"/></a>"
      ]
    },
    {
      "cell_type": "code",
      "execution_count": null,
      "metadata": {
        "id": "gub3hDYAXR6P"
      },
      "outputs": [],
      "source": [
        "#Question 1: Write a Python program to model a closed three‐species reaction cycle\n",
        "# ChatGPT ws used to correct my code iteratively\n",
        "import numpy as np\n",
        "from scipy.linalg import expm\n",
        "import plotly.graph_objects as go\n",
        "import math\n",
        "import matplotlib.pyplot as plt\n",
        "\n",
        "k = 1\n",
        "A_0 = 1\n",
        "t = np.linspace(0, 10, 1001)  # Include the initial time point (0) and adjust the number of points\n",
        "\n",
        "B_0 = np.array([A_0, 0, 0])\n",
        "\n",
        "k_1 = k\n",
        "k_2 = 2 * k\n",
        "k_3 = 3 * k\n",
        "\n",
        "K = np.array([[-1 * k_1, 0, k_3],\n",
        "              [k_1, -1 * k_2, 0],\n",
        "              [0, k_2, -1 * k_3]])\n",
        "\n",
        "e_K = expm(K)\n",
        "\n",
        "# Initialize the concentrations matrix with zeros\n",
        "concentrations = np.zeros((len(t), 3))\n",
        "\n",
        "# Set the initial concentrations explicitly\n",
        "concentrations[0, :] = B_0 / np.sum(B_0)\n",
        "\n",
        "# Calculate concentrations directly using a loop\n",
        "for i, time in enumerate(t[1:]):  # Start from the second time point\n",
        "    B_t = math.e**(-1 * time) * np.dot(e_K, B_0)  # Calculate concentrations without scaling\n",
        "    concentrations[i + 1, :] = B_t / np.sum(B_t)  # Normalize concentrations to ensure conservation of mass.\n",
        "\n",
        "# Create traces for each element\n",
        "traces = [\n",
        "    go.Scatter(x=t, y=concentrations[:, i], mode='lines', name=f'Element {i+1}')\n",
        "    for i in range(3)\n",
        "]\n",
        "\n",
        "# Create the layout\n",
        "layout = go.Layout(\n",
        "    xaxis=dict(title='Time'),\n",
        "    yaxis=dict(title='Concentration'),\n",
        "    title='Interactive Plot of Concentration vs. Time',\n",
        "    showlegend=True\n",
        ")\n",
        "\n",
        "# Create the figure\n",
        "fig = go.Figure(data=traces, layout=layout)\n",
        "\n",
        "# Display the interactive plot\n",
        "fig.show()\n",
        "\n",
        "# Calculate the sum of concentrations at each time point (should remain constant)\n",
        "sum_concentrations = np.sum(concentrations, axis=1)\n",
        "\n",
        "# Plot the sum of concentrations over time\n",
        "plt.figure(figsize=(8, 6))\n",
        "plt.plot(t, sum_concentrations)\n",
        "plt.xlabel('Time')\n",
        "plt.ylabel('Sum of Concentrations')\n",
        "plt.title('Sum of Concentrations vs. Time')\n",
        "plt.grid(True)\n",
        "plt.show()\n"
      ]
    }
  ]
}